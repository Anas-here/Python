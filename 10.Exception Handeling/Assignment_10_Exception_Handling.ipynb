{
  "nbformat": 4,
  "nbformat_minor": 0,
  "metadata": {
    "colab": {
      "provenance": []
    },
    "kernelspec": {
      "name": "python3",
      "display_name": "Python 3"
    },
    "language_info": {
      "name": "python"
    }
  },
  "cells": [
    {
      "cell_type": "code",
      "execution_count": 3,
      "metadata": {
        "colab": {
          "base_uri": "https://localhost:8080/",
          "height": 245
        },
        "id": "LdX71TpqKfr2",
        "outputId": "160a5f71-bdda-4786-83f0-3a3ea4c2a93c"
      },
      "outputs": [
        {
          "name": "stdout",
          "output_type": "stream",
          "text": [
            "Enter First Number: 4\n",
            "Enter Divider Number: 6\n"
          ]
        },
        {
          "output_type": "error",
          "ename": "TypeError",
          "evalue": "ignored",
          "traceback": [
            "\u001b[0;31m---------------------------------------------------------------------------\u001b[0m",
            "\u001b[0;31mTypeError\u001b[0m                                 Traceback (most recent call last)",
            "\u001b[0;32m<ipython-input-3-e74ecb955714>\u001b[0m in \u001b[0;36m<cell line: 7>\u001b[0;34m()\u001b[0m\n\u001b[1;32m      5\u001b[0m \u001b[0mc\u001b[0m \u001b[0;34m=\u001b[0m \u001b[0ma\u001b[0m\u001b[0;34m/\u001b[0m\u001b[0mb\u001b[0m\u001b[0;34m\u001b[0m\u001b[0;34m\u001b[0m\u001b[0m\n\u001b[1;32m      6\u001b[0m \u001b[0;34m\u001b[0m\u001b[0m\n\u001b[0;32m----> 7\u001b[0;31m \u001b[0mprint\u001b[0m\u001b[0;34m(\u001b[0m\u001b[0;34m\"Answer: \"\u001b[0m \u001b[0;34m+\u001b[0m \u001b[0;34m(\u001b[0m\u001b[0mc\u001b[0m\u001b[0;34m)\u001b[0m\u001b[0;34m)\u001b[0m\u001b[0;34m\u001b[0m\u001b[0;34m\u001b[0m\u001b[0m\n\u001b[0m",
            "\u001b[0;31mTypeError\u001b[0m: can only concatenate str (not \"float\") to str"
          ]
        }
      ],
      "source": [
        "# Exception Occurs\n",
        "a = int(input(\"Enter First Number: \"))\n",
        "b = int(input(\"Enter Divider Number: \"))\n",
        "\n",
        "c = a/b\n",
        "\n",
        "print(\"Answer: \" + (c))     #here we cannot concatenate string with integer, thats why Exception will occur"
      ]
    },
    {
      "cell_type": "code",
      "source": [
        "# Handling the Exception\n",
        "\n",
        "try:\n",
        "    a = int(input(\"Enter First Number: \"))\n",
        "    b = int(input(\"Enter Divider Number: \"))\n",
        "    c = a / b\n",
        "\n",
        "    print(\"Answer: \" + (c))    # here we have done same thing as above.\n",
        "\n",
        "except:\n",
        "    print(\"Error!\")            # here we are handling exception"
      ],
      "metadata": {
        "colab": {
          "base_uri": "https://localhost:8080/"
        },
        "id": "SOsHc8iRKqH1",
        "outputId": "f2423c7b-63cd-49b5-fb27-202b41463406"
      },
      "execution_count": 5,
      "outputs": [
        {
          "output_type": "stream",
          "name": "stdout",
          "text": [
            "Enter First Number: 2\n",
            "Enter Divider Number: 3\n",
            "Error!\n"
          ]
        }
      ]
    },
    {
      "cell_type": "code",
      "source": [
        "# solving above\n",
        "try:\n",
        "  a = int(input(\"Enter First Number: \"))\n",
        "  b = int(input(\"Enter Divider Number: \"))\n",
        "  c = a/b\n",
        "  print(\"Answer: \" + (c))\n",
        "\n",
        "except Exception as e:\n",
        "  print(e)\n"
      ],
      "metadata": {
        "id": "yu9RKc48PESZ"
      },
      "execution_count": null,
      "outputs": []
    },
    {
      "cell_type": "code",
      "source": [],
      "metadata": {
        "id": "_0_Pnae9K7UB"
      },
      "execution_count": null,
      "outputs": []
    }
  ]
}