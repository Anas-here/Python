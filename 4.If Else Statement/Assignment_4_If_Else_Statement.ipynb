{
  "nbformat": 4,
  "nbformat_minor": 0,
  "metadata": {
    "colab": {
      "provenance": []
    },
    "kernelspec": {
      "name": "python3",
      "display_name": "Python 3"
    },
    "language_info": {
      "name": "python"
    }
  },
  "cells": [
    {
      "cell_type": "code",
      "execution_count": 14,
      "metadata": {
        "colab": {
          "base_uri": "https://localhost:8080/"
        },
        "id": "NPaZvbWv5Xq5",
        "outputId": "9c5eb103-0c20-408b-e0d2-bfd4084560d8"
      },
      "outputs": [
        {
          "output_type": "stream",
          "name": "stdout",
          "text": [
            "True\n"
          ]
        }
      ],
      "source": [
        "number = 47\n",
        "\n",
        "#using == statement\n",
        "if number == 47:\n",
        "  print(bool(number))\n",
        "else:\n",
        "  print(number)"
      ]
    },
    {
      "cell_type": "code",
      "source": [
        "#using != statement\n",
        "if number!= 47:\n",
        "  print(bool(number))\n",
        "else:\n",
        "  print(number)\n"
      ],
      "metadata": {
        "colab": {
          "base_uri": "https://localhost:8080/"
        },
        "id": "Tyt8DkqD7k5p",
        "outputId": "84eac3fd-c050-4d64-cb6a-84daaaa70fdc"
      },
      "execution_count": 13,
      "outputs": [
        {
          "output_type": "stream",
          "name": "stdout",
          "text": [
            "47\n"
          ]
        }
      ]
    },
    {
      "cell_type": "code",
      "source": [
        "#using > statement\n",
        "if number > 47:\n",
        "  print(bool(number))\n",
        "else:\n",
        "  print(number)"
      ],
      "metadata": {
        "colab": {
          "base_uri": "https://localhost:8080/"
        },
        "id": "Fb0Pfig_8pgy",
        "outputId": "8b5ad755-73e0-4fc3-b3c0-e1706e9892a9"
      },
      "execution_count": 12,
      "outputs": [
        {
          "output_type": "stream",
          "name": "stdout",
          "text": [
            "47\n"
          ]
        }
      ]
    },
    {
      "cell_type": "code",
      "source": [
        "#using < statement\n",
        "if number < 47:\n",
        "  print(bool(number))\n",
        "else:\n",
        "  print(number)\n"
      ],
      "metadata": {
        "colab": {
          "base_uri": "https://localhost:8080/"
        },
        "id": "cjhCwgXe8uxl",
        "outputId": "16e8385b-d1a6-48b3-9231-cd2e365a528d"
      },
      "execution_count": 11,
      "outputs": [
        {
          "output_type": "stream",
          "name": "stdout",
          "text": [
            "47\n"
          ]
        }
      ]
    },
    {
      "cell_type": "code",
      "source": [
        "#using <= statement\n",
        "if number <= 47:\n",
        "  print(bool(number))\n",
        "else:\n",
        "  print(number)"
      ],
      "metadata": {
        "colab": {
          "base_uri": "https://localhost:8080/"
        },
        "id": "wThsYdsX8xct",
        "outputId": "d347dbdf-c866-40b8-c8cd-1e9128949c0e"
      },
      "execution_count": 10,
      "outputs": [
        {
          "output_type": "stream",
          "name": "stdout",
          "text": [
            "True\n"
          ]
        }
      ]
    },
    {
      "cell_type": "code",
      "source": [
        "#using >= statement\n",
        "if number >= 47:\n",
        "  print(bool(number))\n",
        "else:\n",
        "  print(number)"
      ],
      "metadata": {
        "colab": {
          "base_uri": "https://localhost:8080/"
        },
        "id": "AGqz8Dbu8-Cs",
        "outputId": "359b68ac-331a-46ff-ca86-1c8dc8d43cac"
      },
      "execution_count": 9,
      "outputs": [
        {
          "output_type": "stream",
          "name": "stdout",
          "text": [
            "True\n"
          ]
        }
      ]
    },
    {
      "cell_type": "code",
      "source": [
        "phone = [\"Iphone\", \"Samsung\", \"Huawei\", \"Oppo\"]\n",
        "if \"Iphone\" in phone:\n",
        "  print(bool(\"Pakistan\"))"
      ],
      "metadata": {
        "colab": {
          "base_uri": "https://localhost:8080/"
        },
        "id": "YTGyeiV79AX6",
        "outputId": "5909d76d-f71d-4b71-afa3-c60ca285633b"
      },
      "execution_count": 15,
      "outputs": [
        {
          "output_type": "stream",
          "name": "stdout",
          "text": [
            "True\n"
          ]
        }
      ]
    },
    {
      "cell_type": "code",
      "source": [
        "#modifiying bool value\n",
        "bool = True\n",
        "phone = \"Samsung\"\n",
        "if phone != \"Iphone\":\n",
        "  bool= False\n",
        "print(bool)"
      ],
      "metadata": {
        "colab": {
          "base_uri": "https://localhost:8080/"
        },
        "id": "0lmRqqM19nxt",
        "outputId": "670feff9-00c6-4351-889c-bfb2da31a401"
      },
      "execution_count": 17,
      "outputs": [
        {
          "output_type": "stream",
          "name": "stdout",
          "text": [
            "False\n"
          ]
        }
      ]
    },
    {
      "cell_type": "code",
      "source": [],
      "metadata": {
        "id": "LLJlntRf-SQF"
      },
      "execution_count": null,
      "outputs": []
    }
  ]
}