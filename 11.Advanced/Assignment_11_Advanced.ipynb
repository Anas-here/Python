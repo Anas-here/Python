{
  "nbformat": 4,
  "nbformat_minor": 0,
  "metadata": {
    "colab": {
      "provenance": []
    },
    "kernelspec": {
      "name": "python3",
      "display_name": "Python 3"
    },
    "language_info": {
      "name": "python"
    }
  },
  "cells": [
    {
      "cell_type": "code",
      "execution_count": 6,
      "metadata": {
        "colab": {
          "base_uri": "https://localhost:8080/"
        },
        "id": "2aHZLHXWq5Uj",
        "outputId": "8faf7307-cbec-4ed2-f4bd-2784be08208a"
      },
      "outputs": [
        {
          "output_type": "stream",
          "name": "stdout",
          "text": [
            "0x2e\n",
            "0o56\n",
            "0b101110\n",
            "70\n"
          ]
        }
      ],
      "source": [
        "# Number Conversions (Binary, Octal, Hex)\n",
        "a = 46\n",
        "b = 0o106\n",
        "\n",
        "\n",
        "\n",
        "print(hex(a))\n",
        "print(oct(a))\n",
        "print(bin(a))\n"
      ]
    },
    {
      "cell_type": "code",
      "source": [
        "fil =\"/content/sample_data/python.txt\"\n",
        "# Built-In Object Types\n",
        "point = 1.0                      #float\n",
        "integer = 512                    #integer\n",
        "string = 'Anas'                #string\n",
        "lis = ['string', 21, 1.0]      #list\n",
        "tup = ('name', 'number', 21)     #tuple\n",
        "dictionary = {'name':string, 'number':\"number\", 'age': 21}        #dictionary\n",
        "file = open('/content/sample_data/python.txt', 'r').read()        #file"
      ],
      "metadata": {
        "id": "LkScCnlgrLGk"
      },
      "execution_count": 18,
      "outputs": []
    },
    {
      "cell_type": "code",
      "source": [
        "name = \"Anas\"\n",
        "institute= \"AiCademy\"\n",
        "print(name)\n",
        "print(institute)\n",
        "\n",
        "digit_1 =int(input(\"Enter the first digit: \"))\n",
        "digit_2 =int(input(\"Enter the second digit: \"))\n",
        "sum = digit_1 + digit_2\n",
        "print(f\"The total sum is: {sum}\")\n"
      ],
      "metadata": {
        "colab": {
          "base_uri": "https://localhost:8080/"
        },
        "id": "EgH6l9lEr01p",
        "outputId": "2eeec61e-a5f0-4c9a-a32e-0f111c86b016"
      },
      "execution_count": 22,
      "outputs": [
        {
          "output_type": "stream",
          "name": "stdout",
          "text": [
            "Anas\n",
            "AiCademy\n",
            "Enter the first digit: 8\n",
            "Enter the second digit: 9\n",
            "The total sum is: 17\n"
          ]
        }
      ]
    },
    {
      "cell_type": "code",
      "source": [
        "# Direct Number Conversion\n",
        "\n",
        "print('{:02b}'.format(10)) #This line converts the decimal number 10 into a binary string and prints it with a width of 6 characters, zero-padded if necessary i.e 06b\n",
        "print('{:5x}'.format(8))   #This line converts the decimal number 8 into a hexadecimal string and prints it with a width of 5 characters, zero-padded not necessary i.e 5x\n",
        "print('{:03x}'.format(2))  #This line converts the decimal number 2 into a binary string and prints it with a width of 3 characters, zero-padded if necessary i.e 02b"
      ],
      "metadata": {
        "colab": {
          "base_uri": "https://localhost:8080/"
        },
        "id": "Zsq4_yxF2SyA",
        "outputId": "4d879024-fc30-4e2a-fed0-d9da5919220c"
      },
      "execution_count": 8,
      "outputs": [
        {
          "output_type": "stream",
          "name": "stdout",
          "text": [
            "1010\n",
            "    8\n",
            "002\n"
          ]
        }
      ]
    },
    {
      "cell_type": "code",
      "source": [
        "# Direct Number Conversion with zfill\n",
        "\n",
        "print('{:08b}'.format(10).zfill(7))  #it converts Decimal '10' into 'b' (i.e binary) answer in width of 8 characters with filling zero to make total width of '7' characters\n",
        "print('{:7x}'.format(8).zfill(10))   #it converts Decimal '8' into 'x' (i.e hexadecimal) answer in width of 8 characters with filling zero to make total width of '10' characters\n",
        "print('{:2x}'.format(2).zfill(14))   #it converts Decimal '2' into 'x' (i.e hexadecimal) answer in width of 2 characters with filling zero to make total width of '14' characters"
      ],
      "metadata": {
        "colab": {
          "base_uri": "https://localhost:8080/"
        },
        "id": "VDUMahFd56PG",
        "outputId": "0836a669-e7f3-497f-b1c8-4574eab061d3"
      },
      "execution_count": 15,
      "outputs": [
        {
          "output_type": "stream",
          "name": "stdout",
          "text": [
            "00001010\n",
            "000      8\n",
            "000000000000 2\n"
          ]
        }
      ]
    }
  ]
}