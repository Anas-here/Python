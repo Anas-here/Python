{
  "nbformat": 4,
  "nbformat_minor": 0,
  "metadata": {
    "colab": {
      "provenance": []
    },
    "kernelspec": {
      "name": "python3",
      "display_name": "Python 3"
    },
    "language_info": {
      "name": "python"
    }
  },
  "cells": [
    {
      "cell_type": "code",
      "execution_count": 2,
      "metadata": {
        "colab": {
          "base_uri": "https://localhost:8080/"
        },
        "id": "QO6WTJ85kY8r",
        "outputId": "aceae3fd-3d0b-42c1-b9cf-02b908f44d00"
      },
      "outputs": [
        {
          "output_type": "stream",
          "name": "stdout",
          "text": [
            "['iphone', 'samsung', 'huawei', 'vivo']\n"
          ]
        }
      ],
      "source": [
        "phone = [\"iphone\", \"samsung\", \"huawei\", \"vivo\"]\n",
        "print(phone)"
      ]
    },
    {
      "cell_type": "code",
      "source": [
        "#print first index from the list\n",
        "phone = [\"iphone\", \"samsung\", \"huawei\", \"vivo\"]\n",
        "print(phone[0])"
      ],
      "metadata": {
        "colab": {
          "base_uri": "https://localhost:8080/"
        },
        "id": "qxzuehCTk1b2",
        "outputId": "ae847f10-568e-4fe5-826c-d940550877fa"
      },
      "execution_count": 3,
      "outputs": [
        {
          "output_type": "stream",
          "name": "stdout",
          "text": [
            "iphone\n"
          ]
        }
      ]
    },
    {
      "cell_type": "code",
      "source": [
        "#print last element of a list\n",
        "phone = [\"iphone\", \"samsung\", \"huawei\", \"vivo\"]\n",
        "print(phone[-1])"
      ],
      "metadata": {
        "colab": {
          "base_uri": "https://localhost:8080/"
        },
        "id": "uztqpkVVlrxB",
        "outputId": "ce2d00aa-a5ac-474b-d96d-a48efc984c73"
      },
      "execution_count": 6,
      "outputs": [
        {
          "output_type": "stream",
          "name": "stdout",
          "text": [
            "vivo\n"
          ]
        }
      ]
    },
    {
      "cell_type": "code",
      "source": [
        "#print all elements one-by-one\n",
        "phone = [\"iphone\", \"samsung\", \"huawei\", \"vivo\"]\n",
        "for x in phone:\n",
        "  print(x)"
      ],
      "metadata": {
        "colab": {
          "base_uri": "https://localhost:8080/"
        },
        "id": "R0Iv5dgUl_6a",
        "outputId": "bf246da7-5b94-45c6-bffd-1989ce38a556"
      },
      "execution_count": 9,
      "outputs": [
        {
          "output_type": "stream",
          "name": "stdout",
          "text": [
            "iphone\n",
            "samsung\n",
            "huawei\n",
            "vivo\n"
          ]
        }
      ]
    },
    {
      "cell_type": "code",
      "source": [
        "#Make numerical list\n",
        "square = []\n",
        "for x in range(23, 30):\n",
        "  square.append(x**2)\n",
        "print(square)\n"
      ],
      "metadata": {
        "colab": {
          "base_uri": "https://localhost:8080/"
        },
        "id": "BaZpfHG1m5vz",
        "outputId": "6c4730e3-8070-4504-e853-cad77930c7da"
      },
      "execution_count": 11,
      "outputs": [
        {
          "output_type": "stream",
          "name": "stdout",
          "text": [
            "[529, 576, 625, 676, 729, 784, 841]\n"
          ]
        }
      ]
    },
    {
      "cell_type": "code",
      "source": [
        "# List Comprehension\n",
        "\n",
        "square = [x**2 for x in range(23, 30)]\n",
        "\n",
        "print(square)"
      ],
      "metadata": {
        "colab": {
          "base_uri": "https://localhost:8080/"
        },
        "id": "Hto4PFAcpX0Q",
        "outputId": "c767a69b-580e-48a6-b573-8abf910fefc7"
      },
      "execution_count": 12,
      "outputs": [
        {
          "output_type": "stream",
          "name": "stdout",
          "text": [
            "[529, 576, 625, 676, 729, 784, 841]\n"
          ]
        }
      ]
    },
    {
      "cell_type": "code",
      "source": [
        "# Selecting first 3 elements\n",
        "square = [x**2 for x in range(23, 30)]\n",
        "\n",
        "print(square[:3])"
      ],
      "metadata": {
        "colab": {
          "base_uri": "https://localhost:8080/"
        },
        "id": "dC9AkizjpvxD",
        "outputId": "77573d31-bf43-4b18-900d-c84fdb213ace"
      },
      "execution_count": 14,
      "outputs": [
        {
          "output_type": "stream",
          "name": "stdout",
          "text": [
            "[529, 576, 625]\n"
          ]
        }
      ]
    },
    {
      "cell_type": "code",
      "source": [
        "# Copy a List\n",
        "square = [x**2 for x in range(23, 30)]\n",
        "\n",
        "copied_list = square[:]\n",
        "\n",
        "print(copied_list)"
      ],
      "metadata": {
        "colab": {
          "base_uri": "https://localhost:8080/"
        },
        "id": "4Isa1kl_qBjY",
        "outputId": "59230b3b-9684-4696-8df7-acad5628f703"
      },
      "execution_count": 15,
      "outputs": [
        {
          "output_type": "stream",
          "name": "stdout",
          "text": [
            "[529, 576, 625, 676, 729, 784, 841]\n"
          ]
        }
      ]
    },
    {
      "cell_type": "code",
      "source": [
        "#replacing and appending list\n",
        "a = [\"iphone\", \"samsung\", \"huawei\", \"vivo\"]\n",
        "\n",
        "a[3] = \"blackberry\"\n",
        "a.append('oppo')\n",
        "\n",
        "print(a)"
      ],
      "metadata": {
        "colab": {
          "base_uri": "https://localhost:8080/"
        },
        "id": "xCMPKfg5qbit",
        "outputId": "3faa5220-fda7-48e2-9420-16cf8ec1b1f0"
      },
      "execution_count": 17,
      "outputs": [
        {
          "output_type": "stream",
          "name": "stdout",
          "text": [
            "['iphone', 'samsung', 'huawei', 'blackberry', 'oppo']\n"
          ]
        }
      ]
    },
    {
      "cell_type": "code",
      "source": [
        "#simple tuple\n",
        "phone = (\"iphone\", \"samsung\", \"huawei\", \"vivo\")\n",
        "print(phone)"
      ],
      "metadata": {
        "colab": {
          "base_uri": "https://localhost:8080/"
        },
        "id": "x-r___lGrN-E",
        "outputId": "1d8306c2-311e-4120-a326-31821b75de3d"
      },
      "execution_count": 19,
      "outputs": [
        {
          "output_type": "stream",
          "name": "stdout",
          "text": [
            "('iphone', 'samsung', 'huawei', 'vivo')\n"
          ]
        }
      ]
    },
    {
      "cell_type": "code",
      "source": [],
      "metadata": {
        "id": "Qnl-XJ4NsDZ0"
      },
      "execution_count": null,
      "outputs": []
    }
  ]
}