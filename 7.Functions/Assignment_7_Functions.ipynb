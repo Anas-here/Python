{
  "nbformat": 4,
  "nbformat_minor": 0,
  "metadata": {
    "colab": {
      "provenance": []
    },
    "kernelspec": {
      "name": "python3",
      "display_name": "Python 3"
    },
    "language_info": {
      "name": "python"
    }
  },
  "cells": [
    {
      "cell_type": "code",
      "source": [
        "def first_func():\n",
        "  print(\"Hi Anas! How are you?\")"
      ],
      "metadata": {
        "id": "aaP72ZhD1GE1",
        "colab": {
          "base_uri": "https://localhost:8080/"
        },
        "outputId": "e030e35c-9465-42c7-dd1a-eaf61e86ae1b"
      },
      "execution_count": 4,
      "outputs": [
        {
          "output_type": "stream",
          "name": "stdout",
          "text": [
            "Hello World!\n"
          ]
        }
      ]
    },
    {
      "cell_type": "code",
      "source": [
        "def first_func():\n",
        "  print(\"Hi Anas! How are you?\")\n",
        "first_func()"
      ],
      "metadata": {
        "id": "1rMWZae6ohTO"
      },
      "execution_count": null,
      "outputs": []
    },
    {
      "cell_type": "code",
      "source": [
        "# Function with Variable\n",
        "def intro(name):\n",
        "    print(\"Hello \" + name + \"!\")\n",
        "\n",
        "name = input(\"What is your name: \")\n",
        "intro(name)"
      ],
      "metadata": {
        "colab": {
          "base_uri": "https://localhost:8080/"
        },
        "id": "RwlIJFeQsJiv",
        "outputId": "8242692a-1e81-4f0d-bf6e-c558629328bf"
      },
      "execution_count": 9,
      "outputs": [
        {
          "output_type": "stream",
          "name": "stdout",
          "text": [
            "What is your name: anas\n",
            "Hello anas!\n"
          ]
        }
      ]
    },
    {
      "cell_type": "code",
      "source": [
        "def intro(name = 'Anas'):\n",
        "    print(\"Hello \" + name + \"!\")\n",
        "intro()"
      ],
      "metadata": {
        "colab": {
          "base_uri": "https://localhost:8080/"
        },
        "id": "ymNBVMlSsr2r",
        "outputId": "676834c4-6397-402d-d667-f016d1846ab9"
      },
      "execution_count": 14,
      "outputs": [
        {
          "output_type": "stream",
          "name": "stdout",
          "text": [
            "Hello Anas!\n"
          ]
        }
      ]
    },
    {
      "cell_type": "code",
      "source": [
        "def divide(x, y):\n",
        "  dev= int(x)/int(y)\n",
        "  return(dev)\n",
        "x= input(\"enter the devident: \")\n",
        "y= input(\"enter the devisor: \")\n",
        "divide(x, y)"
      ],
      "metadata": {
        "colab": {
          "base_uri": "https://localhost:8080/"
        },
        "id": "aOtol4M-0RDq",
        "outputId": "c86e61c6-2018-4615-969c-98fdd49432ed"
      },
      "execution_count": 18,
      "outputs": [
        {
          "name": "stdout",
          "output_type": "stream",
          "text": [
            "enter the devident: 4\n",
            "enter the devisor: 2\n"
          ]
        },
        {
          "output_type": "execute_result",
          "data": {
            "text/plain": [
              "2.0"
            ]
          },
          "metadata": {},
          "execution_count": 18
        }
      ]
    },
    {
      "cell_type": "code",
      "source": [
        "def add_func(x = '10', y = '10'):\n",
        "    sum = int(x) + int(y)\n",
        "    return sum\n",
        "\n",
        "\n",
        "x = input(\"Enter 1st Number: \")\n",
        "y = input(\"Enter 2nd Number: \")\n",
        "\n",
        "add_func(x, y)"
      ],
      "metadata": {
        "colab": {
          "base_uri": "https://localhost:8080/"
        },
        "id": "l7LVpMfm1uDm",
        "outputId": "958bb58c-fb14-4040-b904-f6b3885fd293"
      },
      "execution_count": 20,
      "outputs": [
        {
          "name": "stdout",
          "output_type": "stream",
          "text": [
            "Enter 1st Number: 4\n",
            "Enter 2nd Number: 5\n"
          ]
        },
        {
          "output_type": "execute_result",
          "data": {
            "text/plain": [
              "9"
            ]
          },
          "metadata": {},
          "execution_count": 20
        }
      ]
    },
    {
      "cell_type": "code",
      "source": [
        "# Using Positional Arguments\n",
        "\n",
        "def info(name = 'student name', institute = 'AiCademy'):\n",
        "    \"\"\"Display information about a pet.\"\"\"\n",
        "    print(\"\\nI am \" + name + \".\")\n",
        "    print(\"I am working for \" + institute + \".\")\n",
        "\n",
        "\n",
        "info('Anas', 'AiCademy')\n",
        "info('Kumail', 'willie')\n",
        "\n",
        "info()\n",
        "info(name='Sara', institute='IUB')"
      ],
      "metadata": {
        "colab": {
          "base_uri": "https://localhost:8080/"
        },
        "id": "gE9RABjy4SO9",
        "outputId": "140e79c6-9eae-4803-f3fb-e7c27e6e7a80"
      },
      "execution_count": 28,
      "outputs": [
        {
          "output_type": "stream",
          "name": "stdout",
          "text": [
            "\n",
            "I am Anas.\n",
            "I am working for AiCademy.\n",
            "\n",
            "I am Kumail.\n",
            "I am working for willie.\n",
            "\n",
            "I am student name.\n",
            "I am working for AiCademy.\n",
            "\n",
            "I am Sara.\n",
            "I am working for IUB.\n"
          ]
        }
      ]
    },
    {
      "cell_type": "code",
      "source": [
        "def first_func(name,institute):\n",
        "  print(\"Hi \"+name +\", How are you? Wellcome to \"+ institute)\n",
        "first_func(name=\"Anas\", institute=\"AiCademy\")"
      ],
      "metadata": {
        "colab": {
          "base_uri": "https://localhost:8080/"
        },
        "id": "T6j-0G-rrRdU",
        "outputId": "301a2862-1de0-4e6f-9f7a-22daeb5825be"
      },
      "execution_count": 7,
      "outputs": [
        {
          "output_type": "stream",
          "name": "stdout",
          "text": [
            "Hi Anas, How are you? Wellcome to AiCademy\n"
          ]
        }
      ]
    },
    {
      "cell_type": "code",
      "source": [
        "# Returning Single Value\n",
        "\n",
        "def get_full_name(first, last):\n",
        "    full_name = first + ' ' + last\n",
        "    return full_name.title()\n",
        "\n",
        "get_full_name('jimi', 'hendrix')"
      ],
      "metadata": {
        "colab": {
          "base_uri": "https://localhost:8080/",
          "height": 35
        },
        "id": "DRFVWbHM5Zkz",
        "outputId": "6c1ae35e-30d9-4769-de9a-d19db7ba7493"
      },
      "execution_count": 34,
      "outputs": [
        {
          "output_type": "execute_result",
          "data": {
            "text/plain": [
              "'Jimi Hendrix'"
            ],
            "application/vnd.google.colaboratory.intrinsic+json": {
              "type": "string"
            }
          },
          "metadata": {},
          "execution_count": 34
        }
      ]
    },
    {
      "cell_type": "code",
      "source": [
        "def biography(name, age, clas):\n",
        "  info= {\"Name\": name, \"Age\": age, \"Class\": clas}\n",
        "  return info\n",
        "name = input(\"Enter your name: \")\n",
        "age = input(\"Enter your age: \")\n",
        "clas = input(\"Enter your class: \")\n",
        "biography(name, age , clas)"
      ],
      "metadata": {
        "colab": {
          "base_uri": "https://localhost:8080/"
        },
        "id": "GBboO-LY9eCV",
        "outputId": "b5142db1-c76b-44d1-d104-cd78daaf0576"
      },
      "execution_count": 40,
      "outputs": [
        {
          "name": "stdout",
          "output_type": "stream",
          "text": [
            "Enter your name: anas\n",
            "Enter your age: 21\n",
            "Enter your class: first year\n"
          ]
        },
        {
          "output_type": "execute_result",
          "data": {
            "text/plain": [
              "{'Name': 'anas', 'Age': '21', 'Class': 'first year'}"
            ]
          },
          "metadata": {},
          "execution_count": 40
        }
      ]
    }
  ]
}