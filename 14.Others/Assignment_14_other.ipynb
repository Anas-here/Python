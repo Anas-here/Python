{
  "nbformat": 4,
  "nbformat_minor": 0,
  "metadata": {
    "colab": {
      "provenance": []
    },
    "kernelspec": {
      "name": "python3",
      "display_name": "Python 3"
    },
    "language_info": {
      "name": "python"
    }
  },
  "cells": [
    {
      "cell_type": "code",
      "execution_count": 7,
      "metadata": {
        "colab": {
          "base_uri": "https://localhost:8080/"
        },
        "id": "d1nNn2QJYstK",
        "outputId": "4dfd9928-6b0f-4668-ff03-5df7d0d6f7cd"
      },
      "outputs": [
        {
          "output_type": "stream",
          "name": "stdout",
          "text": [
            "['This is list']\n",
            "<class 'list'>\n",
            "This is tuple\n",
            "<class 'str'>\n",
            "{'this is': 'Dictionary'}\n",
            "<class 'dict'>\n",
            "{'this is set'}\n",
            "<class 'set'>\n"
          ]
        }
      ],
      "source": [
        "#multiple data storation methods\n",
        "l = [\"This is list\"]\n",
        "t = (\"This is tuple\")\n",
        "d = {\"this is\": \"Dictionary\"}\n",
        "s = {\"this is set\"}\n",
        "\n",
        "print(l)\n",
        "print(type(l))\n",
        "print(t)\n",
        "print(type(t))\n",
        "print(d)\n",
        "print(type(d))\n",
        "print(s)\n",
        "print(type(s))"
      ]
    },
    {
      "cell_type": "code",
      "source": [
        "import urllib.request\n",
        "import re\n",
        "\n",
        "search_keyword = \"ai\"\n",
        "html = urllib.request.urlopen(\"https://www.youtube.com/results?search_query=\" + search_keyword)\n",
        "html_content = html.read().decode()\n",
        "\n",
        "# regular expression pattern to match video IDs\n",
        "video_ids = re.findall(r'watch\\?v=([\\w-]+)', html_content)\n",
        "\n",
        "if video_ids:\n",
        "    # If video_ids is not empty, construct and print the link to the first video\n",
        "    link = \"https://www.youtube.com/watch?v=\" + video_ids[0]\n",
        "    print(link)\n",
        "else:\n",
        "    print(\"No video links found in the search results.\")\n"
      ],
      "metadata": {
        "colab": {
          "base_uri": "https://localhost:8080/"
        },
        "id": "Jjij6ME0Zi5L",
        "outputId": "681880ea-1f1c-46ea-db26-e2017d401c9e"
      },
      "execution_count": 13,
      "outputs": [
        {
          "output_type": "stream",
          "name": "stdout",
          "text": [
            "https://www.youtube.com/watch?v=sN4ZFwySyow\n"
          ]
        }
      ]
    },
    {
      "cell_type": "code",
      "source": [],
      "metadata": {
        "id": "__TEOTo_cZ9K"
      },
      "execution_count": null,
      "outputs": []
    }
  ]
}