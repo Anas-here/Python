{
  "nbformat": 4,
  "nbformat_minor": 0,
  "metadata": {
    "colab": {
      "provenance": []
    },
    "kernelspec": {
      "name": "python3",
      "display_name": "Python 3"
    },
    "language_info": {
      "name": "python"
    }
  },
  "cells": [
    {
      "cell_type": "code",
      "source": [
        "def get_info(name, institute):\n",
        "  info = f\"{name} is learing in {institute}.\"\n",
        "  return info.title()  #title makes both words's first character capital\n",
        "\n",
        "print(get_info(\"anas\",\"aiCademy\"))"
      ],
      "metadata": {
        "colab": {
          "base_uri": "https://localhost:8080/"
        },
        "id": "jdyfDH0Oaexu",
        "outputId": "c674826b-7996-42da-f704-1bb731f374c8"
      },
      "execution_count": 1,
      "outputs": [
        {
          "output_type": "stream",
          "name": "stdout",
          "text": [
            "Anas Is Learing In Aicademy.\n"
          ]
        }
      ]
    },
    {
      "cell_type": "code",
      "source": [
        "from test1 import get_info\n",
        "\n",
        "student_1 = get_info(\"ali\", \"iUB\")\n",
        "student_2 = get_info(\"alia\", \"aiCademy\")\n",
        "print(student_1)\n",
        "print(student_2)"
      ],
      "metadata": {
        "colab": {
          "base_uri": "https://localhost:8080/"
        },
        "id": "G1wNFI3lct3Q",
        "outputId": "916989ad-76d7-49b9-c94a-155652ce93ef"
      },
      "execution_count": 6,
      "outputs": [
        {
          "output_type": "stream",
          "name": "stdout",
          "text": [
            "Ali Is Learing In Iub.\n",
            "Alia Is Learing In Aicademy.\n"
          ]
        }
      ]
    },
    {
      "cell_type": "code",
      "source": [
        "import unittest\n",
        "from test1 import get_info\n",
        "\n",
        "class NamesTestCase(unittest.TestCase):\n",
        "    def test_first_last(self):\n",
        "        student_info = get_info('Ali', 'IUB')\n",
        "        self.assertEqual(student_info, 'Ali IUB')\n",
        "\n",
        "\n",
        "unittest.main()\n"
      ],
      "metadata": {
        "colab": {
          "base_uri": "https://localhost:8080/",
          "height": 401
        },
        "id": "OaHr3bWBfR-U",
        "outputId": "8ff7f010-bedc-4c3b-84dc-5823f552f873"
      },
      "execution_count": 1,
      "outputs": [
        {
          "output_type": "error",
          "ename": "ModuleNotFoundError",
          "evalue": "ignored",
          "traceback": [
            "\u001b[0;31m---------------------------------------------------------------------------\u001b[0m",
            "\u001b[0;31mModuleNotFoundError\u001b[0m                       Traceback (most recent call last)",
            "\u001b[0;32m<ipython-input-1-de3218d849fc>\u001b[0m in \u001b[0;36m<cell line: 2>\u001b[0;34m()\u001b[0m\n\u001b[1;32m      1\u001b[0m \u001b[0;32mimport\u001b[0m \u001b[0munittest\u001b[0m\u001b[0;34m\u001b[0m\u001b[0;34m\u001b[0m\u001b[0m\n\u001b[0;32m----> 2\u001b[0;31m \u001b[0;32mfrom\u001b[0m \u001b[0mtest1\u001b[0m \u001b[0;32mimport\u001b[0m \u001b[0mget_info\u001b[0m\u001b[0;34m\u001b[0m\u001b[0;34m\u001b[0m\u001b[0m\n\u001b[0m\u001b[1;32m      3\u001b[0m \u001b[0;34m\u001b[0m\u001b[0m\n\u001b[1;32m      4\u001b[0m \u001b[0;32mclass\u001b[0m \u001b[0mNamesTestCase\u001b[0m\u001b[0;34m(\u001b[0m\u001b[0munittest\u001b[0m\u001b[0;34m.\u001b[0m\u001b[0mTestCase\u001b[0m\u001b[0;34m)\u001b[0m\u001b[0;34m:\u001b[0m\u001b[0;34m\u001b[0m\u001b[0;34m\u001b[0m\u001b[0m\n\u001b[1;32m      5\u001b[0m     \u001b[0;32mdef\u001b[0m \u001b[0mtest_first_last\u001b[0m\u001b[0;34m(\u001b[0m\u001b[0mself\u001b[0m\u001b[0;34m)\u001b[0m\u001b[0;34m:\u001b[0m\u001b[0;34m\u001b[0m\u001b[0;34m\u001b[0m\u001b[0m\n",
            "\u001b[0;31mModuleNotFoundError\u001b[0m: No module named 'test1'",
            "",
            "\u001b[0;31m---------------------------------------------------------------------------\u001b[0;32m\nNOTE: If your import is failing due to a missing package, you can\nmanually install dependencies using either !pip or !apt.\n\nTo view examples of installing some common dependencies, click the\n\"Open Examples\" button below.\n\u001b[0;31m---------------------------------------------------------------------------\u001b[0m\n"
          ],
          "errorDetails": {
            "actions": [
              {
                "action": "open_url",
                "actionText": "Open Examples",
                "url": "/notebooks/snippets/importing_libraries.ipynb"
              }
            ]
          }
        }
      ]
    },
    {
      "cell_type": "code",
      "source": [
        "def get_info(name,fname,rollno):\n",
        "  try:\n",
        "    info = f\"{name} is the son of {fname},his rollnumber is {rollno}\"\n",
        "  except:\n",
        "    info = f\"{name} is the son of {fname}\"\n",
        "  else:\n",
        "    info = f\"{name} is the student of AiCademy, his roll number is {rollno}\"\n",
        "  return(info.title())\n",
        "print(get_info(\"Anas\",\"Hafeez\",12))"
      ],
      "metadata": {
        "colab": {
          "base_uri": "https://localhost:8080/"
        },
        "id": "2B29MyGegG_w",
        "outputId": "0286ce10-6227-4ac9-ef54-1fcd34867a42"
      },
      "execution_count": 8,
      "outputs": [
        {
          "output_type": "stream",
          "name": "stdout",
          "text": [
            "Anas Is The Student Of Aicademy, His Roll Number Is 12\n"
          ]
        }
      ]
    },
    {
      "cell_type": "code",
      "source": [
        "import unittest\n",
        "from test4 import get_full_name\n",
        "\n",
        "\n",
        "class NamesTestCase(unittest.TestCase):\n",
        "\n",
        "    def test_first_last(self):\n",
        "        info = get_info('ali', 12)\n",
        "        self.assertEqual(info, 'Ali 12')\n",
        "\n",
        "    def test_middle(self):\n",
        "        info = get_info('ali', 'asim', 11)\n",
        "        self.assertEqual(info, 'Ali Asim 11')\n",
        "\n",
        "\n",
        "unittest.main()"
      ],
      "metadata": {
        "id": "5Mk8waOKDbai"
      },
      "execution_count": null,
      "outputs": []
    }
  ]
}