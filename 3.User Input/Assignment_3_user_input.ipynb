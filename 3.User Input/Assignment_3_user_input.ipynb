{
  "nbformat": 4,
  "nbformat_minor": 0,
  "metadata": {
    "colab": {
      "provenance": []
    },
    "kernelspec": {
      "name": "python3",
      "display_name": "Python 3"
    },
    "language_info": {
      "name": "python"
    }
  },
  "cells": [
    {
      "cell_type": "code",
      "execution_count": null,
      "metadata": {
        "colab": {
          "base_uri": "https://localhost:8080/",
          "height": 245
        },
        "id": "t8nb-EaDsec4",
        "outputId": "80da3f19-8217-4db0-8492-78e4da92616f"
      },
      "outputs": [
        {
          "output_type": "error",
          "ename": "TypeError",
          "evalue": "ignored",
          "traceback": [
            "\u001b[0;31m---------------------------------------------------------------------------\u001b[0m",
            "\u001b[0;31mTypeError\u001b[0m                                 Traceback (most recent call last)",
            "\u001b[0;32m<ipython-input-24-e909788f5f76>\u001b[0m in \u001b[0;36m<cell line: 5>\u001b[0;34m()\u001b[0m\n\u001b[1;32m      3\u001b[0m \u001b[0;31m# If you have, rename it to something else to avoid conflicts.\u001b[0m\u001b[0;34m\u001b[0m\u001b[0;34m\u001b[0m\u001b[0m\n\u001b[1;32m      4\u001b[0m \u001b[0;34m\u001b[0m\u001b[0m\n\u001b[0;32m----> 5\u001b[0;31m \u001b[0mquery\u001b[0m \u001b[0;34m=\u001b[0m \u001b[0minput\u001b[0m\u001b[0;34m(\u001b[0m\u001b[0;34m\"Enter a Value: \"\u001b[0m\u001b[0;34m)\u001b[0m\u001b[0;34m\u001b[0m\u001b[0;34m\u001b[0m\u001b[0m\n\u001b[0m\u001b[1;32m      6\u001b[0m \u001b[0mprint\u001b[0m\u001b[0;34m(\u001b[0m\u001b[0mquery\u001b[0m\u001b[0;34m)\u001b[0m\u001b[0;34m\u001b[0m\u001b[0;34m\u001b[0m\u001b[0m\n\u001b[1;32m      7\u001b[0m \u001b[0;34m\u001b[0m\u001b[0m\n",
            "\u001b[0;31mTypeError\u001b[0m: 'str' object is not callable"
          ]
        }
      ],
      "source": [
        "#getting input from user\n",
        "# Ensure you haven't used 'input' as a variable or function elsewhere in your code.\n",
        "# If you have, rename it to something else to avoid conflicts.\n",
        "\n",
        "query = input(\"Enter a Value: \")\n",
        "print(query)\n",
        "\n"
      ]
    },
    {
      "cell_type": "code",
      "source": [
        "#getting input from user\n",
        "query = input(\"Enter the number: \")\n",
        "print(query)"
      ],
      "metadata": {
        "id": "Hf5LzPgmswoX",
        "colab": {
          "base_uri": "https://localhost:8080/"
        },
        "outputId": "faafbfb5-3caa-43e7-9da0-49ce44529fc5"
      },
      "execution_count": 1,
      "outputs": [
        {
          "output_type": "stream",
          "name": "stdout",
          "text": [
            "Enter the number: 7\n",
            "7\n"
          ]
        }
      ]
    },
    {
      "cell_type": "code",
      "source": [
        "#collecting data\n",
        "your_phone = input(\"Enter your phone name: \")\n",
        "friend_phone = input(\"Enter your friend phone name: \")\n",
        "print(your_phone + \" is better than \"+ friend_phone)"
      ],
      "metadata": {
        "colab": {
          "base_uri": "https://localhost:8080/"
        },
        "id": "o8QIOfCd2drZ",
        "outputId": "83137067-1f9a-4a48-ff5a-d4f22b6c1ab7"
      },
      "execution_count": 3,
      "outputs": [
        {
          "output_type": "stream",
          "name": "stdout",
          "text": [
            "Enter your phone name: Iphone\n",
            "Enter your friend phone name: Samsung\n",
            "Iphone is better than Samsung\n"
          ]
        }
      ]
    },
    {
      "cell_type": "code",
      "source": [],
      "metadata": {
        "id": "G1Z3YLTc4GYX"
      },
      "execution_count": null,
      "outputs": []
    }
  ]
}