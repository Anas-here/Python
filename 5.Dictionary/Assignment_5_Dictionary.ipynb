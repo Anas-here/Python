{
  "nbformat": 4,
  "nbformat_minor": 0,
  "metadata": {
    "colab": {
      "provenance": []
    },
    "kernelspec": {
      "name": "python3",
      "display_name": "Python 3"
    },
    "language_info": {
      "name": "python"
    }
  },
  "cells": [
    {
      "cell_type": "code",
      "execution_count": 8,
      "metadata": {
        "colab": {
          "base_uri": "https://localhost:8080/"
        },
        "id": "gHGE5R33Cn4J",
        "outputId": "4663c5e6-29f3-493b-ebf1-58b02c934090"
      },
      "outputs": [
        {
          "output_type": "stream",
          "name": "stdout",
          "text": [
            "{'shirt': 'black', 'pent': 'white'}\n"
          ]
        }
      ],
      "source": [
        "#Dictionary Creation\n",
        "clothes = {\"shirt\": \"black\", \"pent\": \"white\"}\n",
        "print(clothes)"
      ]
    },
    {
      "cell_type": "code",
      "source": [
        "clothes = {\"shirt\": \"black\", \"pent\": \"white\"}\n",
        "print(\"The shirt is \"+clothes[\"shirt\"])"
      ],
      "metadata": {
        "colab": {
          "base_uri": "https://localhost:8080/"
        },
        "id": "P23ehGOJJ7en",
        "outputId": "1df89547-1567-4e67-a5d5-fcc67244d4db"
      },
      "execution_count": 9,
      "outputs": [
        {
          "output_type": "stream",
          "name": "stdout",
          "text": [
            "The shirt is black\n"
          ]
        }
      ]
    },
    {
      "cell_type": "code",
      "source": [
        "# Looping through the Values\n",
        "\n",
        "fav_clothes = {'Anas': \"black shirt\", 'Kumail': \"white shirt\"}\n",
        "for number in fav_clothes.values():\n",
        "    print(str(number) + ' is a favorite')"
      ],
      "metadata": {
        "colab": {
          "base_uri": "https://localhost:8080/"
        },
        "id": "s01mW8bWNl-c",
        "outputId": "ce0ddc86-5b83-4714-b63e-f8ab67bd7bff"
      },
      "execution_count": 26,
      "outputs": [
        {
          "output_type": "stream",
          "name": "stdout",
          "text": [
            "black shirt is a favorite\n",
            "white shirt is a favorite\n"
          ]
        }
      ]
    },
    {
      "cell_type": "code",
      "source": [
        "# Looping Through key\n",
        "fav_clothes = {'Anas': \"black shirt\", 'Kumail': \"white shirt\"}\n",
        "for name in fav_clothes.keys():\n",
        "    print(name + ' loves '+ str(fav_clothes[name]))"
      ],
      "metadata": {
        "colab": {
          "base_uri": "https://localhost:8080/"
        },
        "id": "UwwghxCzN8z9",
        "outputId": "65069913-a438-40fb-f8b3-b980632a0af5"
      },
      "execution_count": 36,
      "outputs": [
        {
          "output_type": "stream",
          "name": "stdout",
          "text": [
            "Anas loves black shirt\n",
            "Kumail loves white shirt\n"
          ]
        }
      ]
    },
    {
      "cell_type": "code",
      "source": [
        "dictionary = {}\n",
        "\n",
        "dictionary['phone'] = 'Iphone'\n",
        "dictionary['company'] = 'Apple'\n",
        "\n",
        "\n",
        "print(dictionary)"
      ],
      "metadata": {
        "colab": {
          "base_uri": "https://localhost:8080/"
        },
        "id": "YAX2qDnSPSjl",
        "outputId": "49633df6-3938-4d43-b6e9-ae8c884ae623"
      },
      "execution_count": 38,
      "outputs": [
        {
          "output_type": "stream",
          "name": "stdout",
          "text": [
            "{'phone': 'Iphone', 'company': 'Apple'}\n"
          ]
        }
      ]
    },
    {
      "cell_type": "code",
      "source": [
        "dictionary = {}\n",
        "\n",
        "dictionary['phone'] = 'Iphone'\n",
        "dictionary['company'] = 'Apple'\n",
        "\n",
        "\n",
        "print(dictionary)\n",
        "\n",
        "print(dictionary.keys())\n",
        "print(dictionary.values())\n",
        "print(dictionary.items())"
      ],
      "metadata": {
        "colab": {
          "base_uri": "https://localhost:8080/"
        },
        "id": "lILvlzmDQCpW",
        "outputId": "5b545193-db22-47dd-f5bc-314a2ca24d5b"
      },
      "execution_count": 39,
      "outputs": [
        {
          "output_type": "stream",
          "name": "stdout",
          "text": [
            "{'phone': 'Iphone', 'company': 'Apple'}\n",
            "dict_keys(['phone', 'company'])\n",
            "dict_values(['Iphone', 'Apple'])\n",
            "dict_items([('phone', 'Iphone'), ('company', 'Apple')])\n"
          ]
        }
      ]
    },
    {
      "cell_type": "code",
      "source": [
        "# Start with an empty list.\n",
        "phone = []\n",
        "user_phone_1 = {\n",
        "    'phone': 'Iphone',\n",
        "    'company': 'Apple',\n",
        "    'color': 'black',\n",
        " }\n",
        "\n",
        "phone.append(user_phone_1)\n",
        "\n",
        "user_phone_2 = {\n",
        "    'phone': 'Android',\n",
        "    'company': 'Samsung',\n",
        "    'color': 'white',\n",
        " }\n",
        "phone.append(user_phone_2)\n",
        "\n",
        "for phone_dict in phone:\n",
        "    for ph, com in phone_dict.items():\n",
        "        print(ph + \": \" + com)\n",
        "        print(\"\\n\")"
      ],
      "metadata": {
        "colab": {
          "base_uri": "https://localhost:8080/"
        },
        "id": "vT12VlbFQe0F",
        "outputId": "83f1d394-bbaa-4d4f-83dd-9443605368d4"
      },
      "execution_count": 48,
      "outputs": [
        {
          "output_type": "stream",
          "name": "stdout",
          "text": [
            "phone: Iphone\n",
            "\n",
            "\n",
            "company: Apple\n",
            "\n",
            "\n",
            "color: black\n",
            "\n",
            "\n",
            "phone: Android\n",
            "\n",
            "\n",
            "company: Samsung\n",
            "\n",
            "\n",
            "color: white\n",
            "\n",
            "\n"
          ]
        }
      ]
    },
    {
      "cell_type": "code",
      "source": [
        "# Looping Through key, value pair\n",
        "fav_clothes = {'Anas': \"black shirt\", 'Kumail': \"white shirt\"}\n",
        "\n",
        "for (name, shirt) in fav_clothes.items():\n",
        "    print(name + ' love '+ shirt)"
      ],
      "metadata": {
        "colab": {
          "base_uri": "https://localhost:8080/"
        },
        "id": "O3ZizpSVKaDP",
        "outputId": "db36cf8f-5b1a-432d-c708-c6e31a3f627d"
      },
      "execution_count": 25,
      "outputs": [
        {
          "output_type": "stream",
          "name": "stdout",
          "text": [
            "Anas love black shirt\n",
            "Kumail love white shirt\n"
          ]
        }
      ]
    },
    {
      "cell_type": "code",
      "source": [
        "phone = []\n",
        "for x in range(100):\n",
        "  updated_phone = {}\n",
        "  updated_phone[\"color\"]=\"black\"\n",
        "  updated_phone[\"style\"]=\"slim\"\n",
        "  updated_phone['x']=20 * x\n",
        "  updated_phone['y']= 7 * int(updated_phone['x'])\n",
        "  phone.append(updated_phone)\n",
        "\n",
        "number_of_phone = len(phone)\n",
        "print(\"Number of phones created: \")\n",
        "print(num_phone)\n",
        "print(phone)"
      ],
      "metadata": {
        "colab": {
          "base_uri": "https://localhost:8080/"
        },
        "id": "cYlq_MOADpFl",
        "outputId": "71378682-b057-42e4-ef14-7418f8427e23"
      },
      "execution_count": 7,
      "outputs": [
        {
          "output_type": "stream",
          "name": "stdout",
          "text": [
            "Number of phones created: \n",
            "100\n",
            "[{'color': 'black', 'style': 'slim', 'x': 0, 'y': 0}, {'color': 'black', 'style': 'slim', 'x': 20, 'y': 140}, {'color': 'black', 'style': 'slim', 'x': 40, 'y': 280}, {'color': 'black', 'style': 'slim', 'x': 60, 'y': 420}, {'color': 'black', 'style': 'slim', 'x': 80, 'y': 560}, {'color': 'black', 'style': 'slim', 'x': 100, 'y': 700}, {'color': 'black', 'style': 'slim', 'x': 120, 'y': 840}, {'color': 'black', 'style': 'slim', 'x': 140, 'y': 980}, {'color': 'black', 'style': 'slim', 'x': 160, 'y': 1120}, {'color': 'black', 'style': 'slim', 'x': 180, 'y': 1260}, {'color': 'black', 'style': 'slim', 'x': 200, 'y': 1400}, {'color': 'black', 'style': 'slim', 'x': 220, 'y': 1540}, {'color': 'black', 'style': 'slim', 'x': 240, 'y': 1680}, {'color': 'black', 'style': 'slim', 'x': 260, 'y': 1820}, {'color': 'black', 'style': 'slim', 'x': 280, 'y': 1960}, {'color': 'black', 'style': 'slim', 'x': 300, 'y': 2100}, {'color': 'black', 'style': 'slim', 'x': 320, 'y': 2240}, {'color': 'black', 'style': 'slim', 'x': 340, 'y': 2380}, {'color': 'black', 'style': 'slim', 'x': 360, 'y': 2520}, {'color': 'black', 'style': 'slim', 'x': 380, 'y': 2660}, {'color': 'black', 'style': 'slim', 'x': 400, 'y': 2800}, {'color': 'black', 'style': 'slim', 'x': 420, 'y': 2940}, {'color': 'black', 'style': 'slim', 'x': 440, 'y': 3080}, {'color': 'black', 'style': 'slim', 'x': 460, 'y': 3220}, {'color': 'black', 'style': 'slim', 'x': 480, 'y': 3360}, {'color': 'black', 'style': 'slim', 'x': 500, 'y': 3500}, {'color': 'black', 'style': 'slim', 'x': 520, 'y': 3640}, {'color': 'black', 'style': 'slim', 'x': 540, 'y': 3780}, {'color': 'black', 'style': 'slim', 'x': 560, 'y': 3920}, {'color': 'black', 'style': 'slim', 'x': 580, 'y': 4060}, {'color': 'black', 'style': 'slim', 'x': 600, 'y': 4200}, {'color': 'black', 'style': 'slim', 'x': 620, 'y': 4340}, {'color': 'black', 'style': 'slim', 'x': 640, 'y': 4480}, {'color': 'black', 'style': 'slim', 'x': 660, 'y': 4620}, {'color': 'black', 'style': 'slim', 'x': 680, 'y': 4760}, {'color': 'black', 'style': 'slim', 'x': 700, 'y': 4900}, {'color': 'black', 'style': 'slim', 'x': 720, 'y': 5040}, {'color': 'black', 'style': 'slim', 'x': 740, 'y': 5180}, {'color': 'black', 'style': 'slim', 'x': 760, 'y': 5320}, {'color': 'black', 'style': 'slim', 'x': 780, 'y': 5460}, {'color': 'black', 'style': 'slim', 'x': 800, 'y': 5600}, {'color': 'black', 'style': 'slim', 'x': 820, 'y': 5740}, {'color': 'black', 'style': 'slim', 'x': 840, 'y': 5880}, {'color': 'black', 'style': 'slim', 'x': 860, 'y': 6020}, {'color': 'black', 'style': 'slim', 'x': 880, 'y': 6160}, {'color': 'black', 'style': 'slim', 'x': 900, 'y': 6300}, {'color': 'black', 'style': 'slim', 'x': 920, 'y': 6440}, {'color': 'black', 'style': 'slim', 'x': 940, 'y': 6580}, {'color': 'black', 'style': 'slim', 'x': 960, 'y': 6720}, {'color': 'black', 'style': 'slim', 'x': 980, 'y': 6860}, {'color': 'black', 'style': 'slim', 'x': 1000, 'y': 7000}, {'color': 'black', 'style': 'slim', 'x': 1020, 'y': 7140}, {'color': 'black', 'style': 'slim', 'x': 1040, 'y': 7280}, {'color': 'black', 'style': 'slim', 'x': 1060, 'y': 7420}, {'color': 'black', 'style': 'slim', 'x': 1080, 'y': 7560}, {'color': 'black', 'style': 'slim', 'x': 1100, 'y': 7700}, {'color': 'black', 'style': 'slim', 'x': 1120, 'y': 7840}, {'color': 'black', 'style': 'slim', 'x': 1140, 'y': 7980}, {'color': 'black', 'style': 'slim', 'x': 1160, 'y': 8120}, {'color': 'black', 'style': 'slim', 'x': 1180, 'y': 8260}, {'color': 'black', 'style': 'slim', 'x': 1200, 'y': 8400}, {'color': 'black', 'style': 'slim', 'x': 1220, 'y': 8540}, {'color': 'black', 'style': 'slim', 'x': 1240, 'y': 8680}, {'color': 'black', 'style': 'slim', 'x': 1260, 'y': 8820}, {'color': 'black', 'style': 'slim', 'x': 1280, 'y': 8960}, {'color': 'black', 'style': 'slim', 'x': 1300, 'y': 9100}, {'color': 'black', 'style': 'slim', 'x': 1320, 'y': 9240}, {'color': 'black', 'style': 'slim', 'x': 1340, 'y': 9380}, {'color': 'black', 'style': 'slim', 'x': 1360, 'y': 9520}, {'color': 'black', 'style': 'slim', 'x': 1380, 'y': 9660}, {'color': 'black', 'style': 'slim', 'x': 1400, 'y': 9800}, {'color': 'black', 'style': 'slim', 'x': 1420, 'y': 9940}, {'color': 'black', 'style': 'slim', 'x': 1440, 'y': 10080}, {'color': 'black', 'style': 'slim', 'x': 1460, 'y': 10220}, {'color': 'black', 'style': 'slim', 'x': 1480, 'y': 10360}, {'color': 'black', 'style': 'slim', 'x': 1500, 'y': 10500}, {'color': 'black', 'style': 'slim', 'x': 1520, 'y': 10640}, {'color': 'black', 'style': 'slim', 'x': 1540, 'y': 10780}, {'color': 'black', 'style': 'slim', 'x': 1560, 'y': 10920}, {'color': 'black', 'style': 'slim', 'x': 1580, 'y': 11060}, {'color': 'black', 'style': 'slim', 'x': 1600, 'y': 11200}, {'color': 'black', 'style': 'slim', 'x': 1620, 'y': 11340}, {'color': 'black', 'style': 'slim', 'x': 1640, 'y': 11480}, {'color': 'black', 'style': 'slim', 'x': 1660, 'y': 11620}, {'color': 'black', 'style': 'slim', 'x': 1680, 'y': 11760}, {'color': 'black', 'style': 'slim', 'x': 1700, 'y': 11900}, {'color': 'black', 'style': 'slim', 'x': 1720, 'y': 12040}, {'color': 'black', 'style': 'slim', 'x': 1740, 'y': 12180}, {'color': 'black', 'style': 'slim', 'x': 1760, 'y': 12320}, {'color': 'black', 'style': 'slim', 'x': 1780, 'y': 12460}, {'color': 'black', 'style': 'slim', 'x': 1800, 'y': 12600}, {'color': 'black', 'style': 'slim', 'x': 1820, 'y': 12740}, {'color': 'black', 'style': 'slim', 'x': 1840, 'y': 12880}, {'color': 'black', 'style': 'slim', 'x': 1860, 'y': 13020}, {'color': 'black', 'style': 'slim', 'x': 1880, 'y': 13160}, {'color': 'black', 'style': 'slim', 'x': 1900, 'y': 13300}, {'color': 'black', 'style': 'slim', 'x': 1920, 'y': 13440}, {'color': 'black', 'style': 'slim', 'x': 1940, 'y': 13580}, {'color': 'black', 'style': 'slim', 'x': 1960, 'y': 13720}, {'color': 'black', 'style': 'slim', 'x': 1980, 'y': 13860}]\n"
          ]
        }
      ]
    },
    {
      "cell_type": "code",
      "source": [],
      "metadata": {
        "id": "e-lkWS8aIDg_"
      },
      "execution_count": null,
      "outputs": []
    }
  ]
}