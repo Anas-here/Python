{
  "nbformat": 4,
  "nbformat_minor": 0,
  "metadata": {
    "colab": {
      "provenance": []
    },
    "kernelspec": {
      "name": "python3",
      "display_name": "Python 3"
    },
    "language_info": {
      "name": "python"
    }
  },
  "cells": [
    {
      "cell_type": "code",
      "execution_count": 5,
      "metadata": {
        "colab": {
          "base_uri": "https://localhost:8080/"
        },
        "id": "8lPgZBvZiyzU",
        "outputId": "41d31a3c-b0ae-4e68-ec9c-15982ba5883a"
      },
      "outputs": [
        {
          "output_type": "stream",
          "name": "stdout",
          "text": [
            "Ahmed\n",
            "Ali\n",
            "Umer\n",
            "Usama\n",
            "Haider\n"
          ]
        }
      ],
      "source": [
        "# For Loop\n",
        "Students = [\"Ahmed\", \"Ali\", \"Umer\", \"Usama\", \"Haider\"]\n",
        "\n",
        "for x in Students:\n",
        "    print(x)"
      ]
    },
    {
      "cell_type": "code",
      "source": [
        "# While Loop\n",
        "a = 5\n",
        "\n",
        "while True:\n",
        "    print(a)\n",
        "    break\n"
      ],
      "metadata": {
        "colab": {
          "base_uri": "https://localhost:8080/"
        },
        "id": "I9y2upihjM6T",
        "outputId": "c88544b6-8b54-4203-aa3d-626b7c67148e"
      },
      "execution_count": 10,
      "outputs": [
        {
          "output_type": "stream",
          "name": "stdout",
          "text": [
            "5\n"
          ]
        }
      ]
    },
    {
      "cell_type": "code",
      "source": [
        "Students = [\"Ahmed\", \"Ali\", \"Umer\", \"Usama\", \"Haider\"]\n",
        "add_student = \"\\nAdd a Student.\"\n",
        "add_student += \"\\nEnter 'quit' when you're done. \"\n",
        "updated_student = []\n",
        "while True:\n",
        "    student = input(add_student)\n",
        "    if student == 'quit':\n",
        "        break\n",
        "    elif student in Students:\n",
        "        print(student + \" is banned!\")\n",
        "        continue\n",
        "    else:\n",
        "        updated_student.append(student)\n",
        "        print(\"\\nYour team:\")\n",
        "\n",
        "\n",
        "for student in updated_student:\n",
        "    print(student)"
      ],
      "metadata": {
        "colab": {
          "base_uri": "https://localhost:8080/"
        },
        "id": "EAmD86uIjtZq",
        "outputId": "f2c480fc-83f7-406d-b2b0-643e24d266fa"
      },
      "execution_count": 15,
      "outputs": [
        {
          "name": "stdout",
          "output_type": "stream",
          "text": [
            "\n",
            "Add a Student.\n",
            "Enter 'quit' when you're done. Ali\n",
            "Ali is banned!\n",
            "\n",
            "Add a Student.\n",
            "Enter 'quit' when you're done. quit\n"
          ]
        }
      ]
    },
    {
      "cell_type": "code",
      "source": [
        "# Removing values using while loop\n",
        "\n",
        "Students = [\"Ahmed\", \"Ali\", \"Umer\", \"Usama\", \"Haider\"]\n",
        "print(Students)\n",
        "\n",
        "while 'Ali' in Students:\n",
        "    Students.remove('Ali')\n",
        "\n",
        "print(Students)"
      ],
      "metadata": {
        "colab": {
          "base_uri": "https://localhost:8080/"
        },
        "id": "lEzUlEc6l5JD",
        "outputId": "2801c461-1ef3-4440-dedd-9aa76e33ef3d"
      },
      "execution_count": 14,
      "outputs": [
        {
          "output_type": "stream",
          "name": "stdout",
          "text": [
            "['Ahmed', 'Ali', 'Umer', 'Usama', 'Haider']\n",
            "['Ahmed', 'Umer', 'Usama', 'Haider']\n"
          ]
        }
      ]
    },
    {
      "cell_type": "code",
      "source": [],
      "metadata": {
        "id": "bbhPV9aHmisx"
      },
      "execution_count": null,
      "outputs": []
    }
  ]
}