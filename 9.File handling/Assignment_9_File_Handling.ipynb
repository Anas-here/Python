{
  "nbformat": 4,
  "nbformat_minor": 0,
  "metadata": {
    "colab": {
      "provenance": []
    },
    "kernelspec": {
      "name": "python3",
      "display_name": "Python 3"
    },
    "language_info": {
      "name": "python"
    }
  },
  "cells": [
    {
      "cell_type": "code",
      "execution_count": 35,
      "metadata": {
        "id": "GmtoyTMs780S"
      },
      "outputs": [],
      "source": [
        "file = \"mine.txt\"\n",
        "with open(file, \"r\") as f:\n",
        "  f.read()"
      ]
    },
    {
      "cell_type": "code",
      "source": [
        "file = \"mine.txt\"\n",
        "with open(file, \"r\") as f:\n",
        "  lines = f.readlines()\n",
        "for x in lines:\n",
        "  print(x)"
      ],
      "metadata": {
        "colab": {
          "base_uri": "https://localhost:8080/"
        },
        "id": "-1pgQxco91uf",
        "outputId": "f82de935-0839-4252-d2b8-0219e747e927"
      },
      "execution_count": 36,
      "outputs": [
        {
          "output_type": "stream",
          "name": "stdout",
          "text": [
            "Hey I am Anas.\n",
            "\n",
            "I am working in AICademy.\n",
            "\n",
            "My like to do programming.\n"
          ]
        }
      ]
    },
    {
      "cell_type": "code",
      "source": [
        "file = \"new_file.txt\"\n",
        "with open(file, \"w+\") as f:\n",
        "  print(\"file created\")"
      ],
      "metadata": {
        "colab": {
          "base_uri": "https://localhost:8080/"
        },
        "id": "cN9f8bRPDz5K",
        "outputId": "a946afe0-4abc-4e59-d372-08c74a46095b"
      },
      "execution_count": 30,
      "outputs": [
        {
          "output_type": "stream",
          "name": "stdout",
          "text": [
            "file created\n"
          ]
        }
      ]
    },
    {
      "cell_type": "code",
      "source": [
        "file = \"new_file.txt\"\n",
        "with open(file, \"w+\") as f:\n",
        "  f.write(\"hello world!\")"
      ],
      "metadata": {
        "id": "_OkHqXBIGYMh"
      },
      "execution_count": 31,
      "outputs": []
    },
    {
      "cell_type": "code",
      "source": [
        "file = \"mine.txt\"\n",
        "with open(file, \"r\") as f:\n",
        "  lines = f.readlines()\n",
        "with open (file, \"w+\") as f:\n",
        "  for line in lines:\n",
        "    f.write(line)"
      ],
      "metadata": {
        "id": "tEgc5MxzFJKA"
      },
      "execution_count": 42,
      "outputs": []
    },
    {
      "cell_type": "code",
      "source": [],
      "metadata": {
        "id": "ZL0kyeYCHiD3"
      },
      "execution_count": null,
      "outputs": []
    }
  ]
}